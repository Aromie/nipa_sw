{
  "nbformat": 4,
  "nbformat_minor": 0,
  "metadata": {
    "colab": {
      "provenance": [],
      "collapsed_sections": [],
      "authorship_tag": "ABX9TyMJTD3PtpCsug5ypFV9rfgQ",
      "include_colab_link": true
    },
    "kernelspec": {
      "name": "python3",
      "display_name": "Python 3"
    },
    "language_info": {
      "name": "python"
    }
  },
  "cells": [
    {
      "cell_type": "markdown",
      "metadata": {
        "id": "view-in-github",
        "colab_type": "text"
      },
      "source": [
        "<a href=\"https://colab.research.google.com/github/Aromie/nipa_sw/blob/main/app_js.ipynb\" target=\"_parent\"><img src=\"https://colab.research.google.com/assets/colab-badge.svg\" alt=\"Open In Colab\"/></a>"
      ]
    },
    {
      "cell_type": "code",
      "source": [
        "/* web proj 1 self introduction page\n",
        "  \n",
        "  지시사항\n",
        "\n",
        "/ 경로에 자기 소개 페이지를 만들어주세요.\n",
        "\n",
        "자기소개 페이지에는 다음이 포함되어야합니다:\n",
        "\n",
        "제목(header, h1)\n",
        "\n",
        "문단(paragraph, p)\n",
        "\n",
        "*/\n"
      ],
      "metadata": {
        "id": "yu0qVVaaMLBy"
      },
      "execution_count": null,
      "outputs": []
    },
    {
      "cell_type": "code",
      "source": [
        "//아래 주어진 app.js 홈페이지의 첫 화면, Express 프로그램이 구동할 때 가장 처음 작동하는 페이지\n",
        "//웹페이지가 요청되면 require"
      ],
      "metadata": {
        "id": "HE6Cx4MSMqJP"
      },
      "execution_count": null,
      "outputs": []
    },
    {
      "cell_type": "code",
      "source": [
        "const createError = require('http-errors');\n",
        "const express = require('express');\n",
        "const path = require('path');\n",
        "const cookieParser = require('cookie-parser'); //\n",
        "const logger = require('morgan');\n",
        "const mongoose = require('mongoose');\n",
        "const dayjs = require('dayjs');\n",
        "\n",
        "\n",
        "/* TODO: indexRouter 연동 */ \n",
        " \n",
        "\n",
        "const app = express();\n",
        "\n",
        "// view engine setup\n",
        "app.set('views', path.join(__dirname, 'views'));\n",
        "app.set('view engine', 'pug');\n",
        "app.locals.formatDate = (date) => {\n",
        "  return dayjs(date).format('YYYY-MM-DD HH:mm:ss');\n",
        "}\n",
        "\n",
        "app.use(logger('dev'));\n",
        "app.use(express.json());\n",
        "app.use(express.urlencoded({ extended: false }));\n",
        "app.use(cookieParser());\n",
        "app.use(express.static(path.join(__dirname, 'public')));\n",
        "\n",
        "/* TODO: indexRoute 연동 */ \n",
        "\n",
        "\n",
        "// catch 404 and forward to error handler\n",
        "app.use((req, res, next) => {\n",
        "  next(createError(404));\n",
        "});\n",
        "\n",
        "// error handler\n",
        "app.use((err, req, res, next) => {\n",
        "  // set locals, only providing error in development\n",
        "  res.locals.message = err.message;\n",
        "  res.locals.error = req.app.get('env') === 'development' ? err : {};\n",
        "\n",
        "  // render the error page\n",
        "  res.status(err.status || 500);\n",
        "  res.render('error');\n",
        "});\n",
        "\n",
        "module.exports = app;"
      ],
      "metadata": {
        "id": "lJZGFUqaTtHz"
      },
      "execution_count": null,
      "outputs": []
    },
    {
      "cell_type": "code",
      "source": [
        "/*\n",
        "app.js 페이지 구성\n",
        "1. 다양한 모듈이 불러와져 있고,\n",
        "2. 라우터도 불러오고\n",
        "3. Express 객체를 불러오고\n",
        "4. view 템플릿 셋팅 부분 : pug 렌더링 라이브러리를 사용\n",
        "5. app.use함수부분 여러가지 기능을 사용할 것을 명시함 : logger, cookieParser 등\n",
        "6. 라우터 내용이 담긴 경로 지정\n",
        "7. 미들웨어 : 에러 핸들링\n",
        "8. app을 내보내기\n",
        "*/"
      ],
      "metadata": {
        "id": "JdTM4mQ1TtA-"
      },
      "execution_count": null,
      "outputs": []
    },
    {
      "cell_type": "code",
      "execution_count": null,
      "metadata": {
        "id": "q821h-a1TjJ7"
      },
      "outputs": [],
      "source": [
        "/*\n",
        "첫번째 들어갈 코드는 \n",
        "const indexRouter = require(\"./routes\");\n",
        "\n",
        "두번째는\n",
        "app.use(\"/\",indexRouter);\n",
        "*/"
      ]
    }
  ]
}